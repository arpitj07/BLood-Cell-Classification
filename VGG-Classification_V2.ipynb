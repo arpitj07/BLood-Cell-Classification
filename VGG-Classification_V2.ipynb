{
 "cells": [
  {
   "cell_type": "code",
   "execution_count": 1,
   "metadata": {
    "_uuid": "9a2032834e9e9b907006fe27fd59a800d76c48a6",
    "colab": {
     "base_uri": "https://localhost:8080/",
     "height": 34
    },
    "colab_type": "code",
    "id": "0K9eO_W2kowo",
    "outputId": "810de5dc-e28e-4dc6-951f-79c097ec94d0"
   },
   "outputs": [
    {
     "name": "stderr",
     "output_type": "stream",
     "text": [
      "Using TensorFlow backend.\n"
     ]
    }
   ],
   "source": [
    "from keras.models import Sequential,Model\n",
    "from keras.layers import Activation\n",
    "from keras.layers.core import Dense,Flatten,Dropout\n",
    "from keras.metrics import categorical_crossentropy\n",
    "from keras.preprocessing.image import ImageDataGenerator\n",
    "from keras.layers.normalization import BatchNormalization\n",
    "from keras.layers.convolutional import *\n",
    "from sklearn.metrics import confusion_matrix\n",
    "from keras.optimizers import Adam, RMSprop , SGD\n",
    "import keras \n",
    "import keras.backend as B\n",
    "import numpy as np\n",
    "import keras.applications as A\n",
    "import matplotlib.pyplot as plt\n",
    "%matplotlib inline\n",
    "\n",
    "import os\n",
    "from keras import regularizers"
   ]
  },
  {
   "cell_type": "code",
   "execution_count": 2,
   "metadata": {
    "_uuid": "b018b9fee4f403a491b8f8a7dbec1bfa43b1d7c5"
   },
   "outputs": [
    {
     "data": {
      "text/plain": [
       "['.DS_Store', 'images', 'labels.csv']"
      ]
     },
     "execution_count": 2,
     "metadata": {},
     "output_type": "execute_result"
    }
   ],
   "source": [
    "os.listdir(\"dataset2-master\")"
   ]
  },
  {
   "cell_type": "code",
   "execution_count": 3,
   "metadata": {
    "_uuid": "95684d85032a354cd2398939dbc38bbafe5cb3e4"
   },
   "outputs": [
    {
     "name": "stdout",
     "output_type": "stream",
     "text": [
      "C:\\Users\\ARPIT JAIN\\Desktop\\dataset2-master\n"
     ]
    }
   ],
   "source": [
    "cd \"dataset2-master/\""
   ]
  },
  {
   "cell_type": "code",
   "execution_count": 13,
   "metadata": {
    "_uuid": "5ffcc4d8f255b160a9d9c72c553cca9b03c0bac4",
    "colab": {},
    "colab_type": "code",
    "id": "2_rEh_J4fZaE"
   },
   "outputs": [],
   "source": [
    "train_path = \"images/TRAIN\"\n",
    "test_path = \"images/TEST\""
   ]
  },
  {
   "cell_type": "code",
   "execution_count": 5,
   "metadata": {
    "_uuid": "effc8111640a94f167d0cecc8f6f79ec8fb4a233",
    "colab": {},
    "colab_type": "code",
    "id": "Fuy3GfEP5pxv"
   },
   "outputs": [],
   "source": [
    "inputs = (240,320,3)"
   ]
  },
  {
   "cell_type": "code",
   "execution_count": 6,
   "metadata": {
    "_uuid": "7bff7fb53582973394a487d4a49afcdeaa17a952",
    "colab": {},
    "colab_type": "code",
    "id": "gyHTXiZjfxZE"
   },
   "outputs": [],
   "source": [
    "# train_batches = ImageDataGenerator().flow_from_directory(train_path, target_size=(224,224),classes=['EOSINOPHIL', 'LYMPHOCYTE', 'MONOCYTE', 'NEUTROPHIL'],batch_size=50)\n",
    "# test_batches = ImageDataGenerator().flow_from_directory(test_path, target_size=(224,224),classes=['EOSINOPHIL', 'LYMPHOCYTE', 'MONOCYTE', 'NEUTROPHIL'],batch_size=50)"
   ]
  },
  {
   "cell_type": "code",
   "execution_count": 7,
   "metadata": {
    "_uuid": "c1d6da766ba9ef7c3d00fc84532db7f217f5cc63",
    "colab": {
     "base_uri": "https://localhost:8080/",
     "height": 121
    },
    "colab_type": "code",
    "id": "LJMow1wYco0F",
    "outputId": "a327c156-8c06-4d41-9b2d-4cef7b686bca"
   },
   "outputs": [
    {
     "name": "stdout",
     "output_type": "stream",
     "text": [
      "Downloading data from https://github.com/fchollet/deep-learning-models/releases/download/v0.1/vgg16_weights_tf_dim_ordering_tf_kernels_notop.h5\n",
      "58892288/58889256 [==============================] - 33s 1us/step\n"
     ]
    }
   ],
   "source": [
    "vgg = A.vgg16.VGG16(weights='imagenet',include_top=False, input_shape=inputs)\n",
    "#vgg.summary()"
   ]
  },
  {
   "cell_type": "code",
   "execution_count": 8,
   "metadata": {
    "_uuid": "392b0fd5d10b385a16c9b13245e4a185368b2cbc",
    "colab": {},
    "colab_type": "code",
    "id": "1e0mWt067J-2"
   },
   "outputs": [],
   "source": [
    "model = Sequential()\n",
    "for layer in vgg.layers[:-4]:\n",
    "  layer.trainable=False"
   ]
  },
  {
   "cell_type": "code",
   "execution_count": 9,
   "metadata": {
    "_uuid": "8026855a6d30c5d389431fedf5baf30e050e210c",
    "colab": {
     "base_uri": "https://localhost:8080/",
     "height": 336
    },
    "colab_type": "code",
    "id": "jzqAORMqLHTR",
    "outputId": "1d652f65-b1e3-4909-cb69-d9981b3c6563"
   },
   "outputs": [
    {
     "name": "stdout",
     "output_type": "stream",
     "text": [
      "<keras.engine.input_layer.InputLayer object at 0x000001DCBD20A6D8> False\n",
      "<keras.layers.convolutional.Conv2D object at 0x000001DCC55E3E10> False\n",
      "<keras.layers.convolutional.Conv2D object at 0x000001DCC55E3F98> False\n",
      "<keras.layers.pooling.MaxPooling2D object at 0x000001DCC5630278> False\n",
      "<keras.layers.convolutional.Conv2D object at 0x000001DCC5608D68> False\n",
      "<keras.layers.convolutional.Conv2D object at 0x000001DCC5649470> False\n",
      "<keras.layers.pooling.MaxPooling2D object at 0x000001DCC5669748> False\n",
      "<keras.layers.convolutional.Conv2D object at 0x000001DCC5669F60> False\n",
      "<keras.layers.convolutional.Conv2D object at 0x000001DCC56A4128> False\n",
      "<keras.layers.convolutional.Conv2D object at 0x000001DCC56C3400> False\n",
      "<keras.layers.pooling.MaxPooling2D object at 0x000001DCC56DD358> False\n",
      "<keras.layers.convolutional.Conv2D object at 0x000001DCC56DDC88> False\n",
      "<keras.layers.convolutional.Conv2D object at 0x000001DCC5713160> False\n",
      "<keras.layers.convolutional.Conv2D object at 0x000001DCC5733470> False\n",
      "<keras.layers.pooling.MaxPooling2D object at 0x000001DCC574B400> False\n",
      "<keras.layers.convolutional.Conv2D object at 0x000001DCC574BCF8> True\n",
      "<keras.layers.convolutional.Conv2D object at 0x000001DCC577E208> True\n",
      "<keras.layers.convolutional.Conv2D object at 0x000001DCC579F4E0> True\n",
      "<keras.layers.pooling.MaxPooling2D object at 0x000001DCC57B6470> True\n"
     ]
    }
   ],
   "source": [
    "for layer in vgg.layers:\n",
    "  print(layer,layer.trainable)"
   ]
  },
  {
   "cell_type": "code",
   "execution_count": 10,
   "metadata": {
    "_uuid": "10e3b244c2583db09f00a2070151936a8aa388ef",
    "colab": {
     "base_uri": "https://localhost:8080/",
     "height": 373
    },
    "colab_type": "code",
    "id": "cRh2sDQiLSlz",
    "outputId": "da594485-3008-4784-a57e-dba3e8508e9a"
   },
   "outputs": [
    {
     "name": "stdout",
     "output_type": "stream",
     "text": [
      "_________________________________________________________________\n",
      "Layer (type)                 Output Shape              Param #   \n",
      "=================================================================\n",
      "vgg16 (Model)                (None, 7, 10, 512)        14714688  \n",
      "_________________________________________________________________\n",
      "flatten_1 (Flatten)          (None, 35840)             0         \n",
      "_________________________________________________________________\n",
      "batch_normalization_1 (Batch (None, 35840)             143360    \n",
      "_________________________________________________________________\n",
      "dense_1 (Dense)              (None, 32)                1146912   \n",
      "_________________________________________________________________\n",
      "dropout_1 (Dropout)          (None, 32)                0         \n",
      "_________________________________________________________________\n",
      "batch_normalization_2 (Batch (None, 32)                128       \n",
      "_________________________________________________________________\n",
      "dense_2 (Dense)              (None, 16)                528       \n",
      "_________________________________________________________________\n",
      "dropout_2 (Dropout)          (None, 16)                0         \n",
      "_________________________________________________________________\n",
      "batch_normalization_3 (Batch (None, 16)                64        \n",
      "_________________________________________________________________\n",
      "dense_3 (Dense)              (None, 8)                 136       \n",
      "_________________________________________________________________\n",
      "dropout_3 (Dropout)          (None, 8)                 0         \n",
      "_________________________________________________________________\n",
      "batch_normalization_4 (Batch (None, 8)                 32        \n",
      "_________________________________________________________________\n",
      "dense_4 (Dense)              (None, 4)                 36        \n",
      "=================================================================\n",
      "Total params: 16,005,884\n",
      "Trainable params: 8,298,828\n",
      "Non-trainable params: 7,707,056\n",
      "_________________________________________________________________\n"
     ]
    }
   ],
   "source": [
    "# Add the vgg convolutional base model\n",
    "model.add(vgg)\n",
    " \n",
    "# Add new layers\n",
    "model.add(Flatten())\n",
    "model.add(BatchNormalization())\n",
    "model.add(Dense(32, activation='relu' ))\n",
    "model.add(Dropout(0.2))\n",
    "model.add(BatchNormalization())\n",
    "model.add(Dense(16, activation='relu' ))\n",
    "model.add(Dropout(0.2))\n",
    "model.add(BatchNormalization())\n",
    "model.add(Dense(8, activation='relu' ))\n",
    "model.add(Dropout(0.2))\n",
    "model.add(BatchNormalization())\n",
    "model.add(Dense(4, activation='softmax'))\n",
    "model.summary()"
   ]
  },
  {
   "cell_type": "code",
   "execution_count": 11,
   "metadata": {
    "_uuid": "3c333283e67c99ae876f6c08e1585edfe1aeaa96",
    "colab": {},
    "colab_type": "code",
    "id": "dC2X91z6LVXs"
   },
   "outputs": [],
   "source": [
    "train_datagen = ImageDataGenerator(\n",
    "      rescale=1./255,\n",
    "      rotation_range=20,\n",
    "      width_shift_range=0.2,\n",
    "      height_shift_range=0.2,\n",
    "      horizontal_flip=True,\n",
    "      fill_mode='nearest', validation_split=0.25)\n",
    "\n",
    "\n",
    "validation_datagen = ImageDataGenerator(rescale=1./255 )\n",
    " \n",
    "# Change the batchsize according to your system RAM\n",
    "train_batchsize = 20\n",
    "val_batchsize = 20"
   ]
  },
  {
   "cell_type": "code",
   "execution_count": 14,
   "metadata": {
    "_uuid": "f0e43046b5acc6128d7fb971b80ea99074e5b3c7",
    "colab": {
     "base_uri": "https://localhost:8080/",
     "height": 50
    },
    "colab_type": "code",
    "id": "jhFVAPY0LxXS",
    "outputId": "9e78bf73-414a-4855-c01a-2a5ef062c8b7"
   },
   "outputs": [
    {
     "name": "stdout",
     "output_type": "stream",
     "text": [
      "Found 7470 images belonging to 4 classes.\n",
      "Found 2487 images belonging to 4 classes.\n"
     ]
    }
   ],
   "source": [
    "train_generator = train_datagen.flow_from_directory(\n",
    "        train_path,\n",
    "        target_size=(240, 320),\n",
    "        batch_size=train_batchsize,\n",
    "        class_mode='categorical', subset = \"training\")\n",
    " \n",
    "validation_generator = train_datagen.flow_from_directory(\n",
    "        train_path,\n",
    "        target_size=(240, 320),\n",
    "        batch_size=val_batchsize,\n",
    "        class_mode='categorical',\n",
    "        shuffle=False,\n",
    "    subset='validation')"
   ]
  },
  {
   "cell_type": "code",
   "execution_count": 15,
   "metadata": {
    "_uuid": "15f6e122d01ee0cae70be8a448bf1340b13bbbc7",
    "colab": {},
    "colab_type": "code",
    "id": "gd8tcdJkL5Vl"
   },
   "outputs": [],
   "source": [
    "model.compile(loss='categorical_crossentropy',\n",
    "              optimizer=Adam(lr=1e-4),\n",
    "              metrics=['acc'])"
   ]
  },
  {
   "cell_type": "code",
   "execution_count": null,
   "metadata": {
    "_uuid": "52949bdfafea3cf506321afe293f9b3e6b9316d3",
    "colab": {
     "base_uri": "https://localhost:8080/",
     "height": 255
    },
    "colab_type": "code",
    "id": "DtNQyN0wdnPw",
    "outputId": "77b8f890-2057-49a8-8878-6c536e669d8b",
    "scrolled": true
   },
   "outputs": [
    {
     "name": "stdout",
     "output_type": "stream",
     "text": [
      "Epoch 1/50\n",
      " 72/373 [====>.........................] - ETA: 2:15:26 - loss: 1.7179 - acc: 0.2924"
     ]
    }
   ],
   "source": [
    "# Train the model\n",
    "history = model.fit_generator(\n",
    "      train_generator,\n",
    "      steps_per_epoch=train_generator.samples//train_generator.batch_size ,\n",
    "      epochs=50,\n",
    "      validation_data=validation_generator,\n",
    "      validation_steps=validation_generator.samples//validation_generator.batch_size,\n",
    "      verbose=1)"
   ]
  },
  {
   "cell_type": "code",
   "execution_count": null,
   "metadata": {
    "_uuid": "2a7a0646beb2e50a47a4a094ebf3cf465e93b574"
   },
   "outputs": [],
   "source": [
    "model.save(\"model_2.h5\")"
   ]
  },
  {
   "cell_type": "code",
   "execution_count": null,
   "metadata": {
    "_uuid": "d0d8220cfc2de8f37e89a4fe8c9e9eb9f697a75e",
    "colab": {
     "base_uri": "https://localhost:8080/",
     "height": 543
    },
    "colab_type": "code",
    "id": "w9TqeiZUEYR7",
    "outputId": "7d7ffc1e-d045-440b-c39f-14af2f2edb45"
   },
   "outputs": [],
   "source": [
    "acc = history.history['acc']\n",
    "val_acc = history.history['val_acc']\n",
    "loss = history.history['loss']\n",
    "val_loss = history.history['val_loss']\n",
    " \n",
    "epochs = range(len(acc))\n",
    " \n",
    "plt.plot(epochs, acc, 'b', label='Training acc')\n",
    "plt.plot(epochs, val_acc, 'r', label='Validation acc')\n",
    "plt.title('Training and validation accuracy')\n",
    "plt.legend()\n",
    " \n",
    "plt.figure()\n",
    " \n",
    "plt.plot(epochs, loss, 'b', label='Training loss')\n",
    "plt.plot(epochs, val_loss, 'r', label='Validation loss')\n",
    "plt.title('Training and validation loss')\n",
    "plt.legend()\n",
    " \n",
    "plt.show()"
   ]
  },
  {
   "cell_type": "code",
   "execution_count": null,
   "metadata": {
    "_uuid": "b0ea49172f254f11a26adb7fb6f66dd7b5da1ad9",
    "colab": {},
    "colab_type": "code",
    "id": "45DX_3WCn-f8"
   },
   "outputs": [],
   "source": [
    "print(\"The best Training accuracy {}\".format(max(acc)*100))\n",
    "print(\"The best validation accuracy {} \".format(max(val_acc)*100))"
   ]
  },
  {
   "cell_type": "code",
   "execution_count": null,
   "metadata": {
    "_uuid": "5693be6142b8d13b6d156f025a113807a915bb14"
   },
   "outputs": [],
   "source": []
  }
 ],
 "metadata": {
  "accelerator": "TPU",
  "colab": {
   "collapsed_sections": [],
   "name": "VGG16-clasification",
   "provenance": [],
   "version": "0.3.2"
  },
  "kernelspec": {
   "display_name": "Python 3",
   "language": "python",
   "name": "python3"
  },
  "language_info": {
   "codemirror_mode": {
    "name": "ipython",
    "version": 3
   },
   "file_extension": ".py",
   "mimetype": "text/x-python",
   "name": "python",
   "nbconvert_exporter": "python",
   "pygments_lexer": "ipython3",
   "version": "3.6.8"
  }
 },
 "nbformat": 4,
 "nbformat_minor": 1
}
